{
 "cells": [
  {
   "cell_type": "code",
   "execution_count": 1,
   "id": "64a1cf1a-7b96-4579-a7b6-c4a56837ba5a",
   "metadata": {},
   "outputs": [],
   "source": [
    "import numpy as np\n",
    "import pandas as pd\n",
    "from sklearn.metrics.pairwise import cosine_similarity"
   ]
  },
  {
   "cell_type": "code",
   "execution_count": 5,
   "id": "126ca00e-d419-4fc9-bfab-8573be4e19fd",
   "metadata": {},
   "outputs": [],
   "source": [
    "# Load datasets\n",
    "ratings = pd.read_csv('C:/Users/joshi/OneDrive/Desktop/archive/ratings.csv')\n",
    "movies = pd.read_csv('C:/Users/joshi/OneDrive/Desktop/archive/movies.csv')"
   ]
  },
  {
   "cell_type": "code",
   "execution_count": 7,
   "id": "78c3248f-fb03-4470-9bae-3ce948e7cf8d",
   "metadata": {},
   "outputs": [],
   "source": [
    "# Merge ratings with movie titles\n",
    "data = pd.merge(ratings, movies, on=\"movieId\")"
   ]
  },
  {
   "cell_type": "code",
   "execution_count": 9,
   "id": "616277ac-3574-4106-986b-fc6b52370976",
   "metadata": {},
   "outputs": [],
   "source": [
    "# Create a pivot table (users as rows, movies as columns, ratings as values)\n",
    "user_movie_matrix = data.pivot_table(index=\"userId\", columns=\"title\", values=\"rating\")"
   ]
  },
  {
   "cell_type": "code",
   "execution_count": 11,
   "id": "b6d089b6-7d16-47ac-aebd-1d8f184e5ff2",
   "metadata": {},
   "outputs": [],
   "source": [
    "# Fill missing ratings with 0\n",
    "user_movie_matrix = user_movie_matrix.fillna(0)"
   ]
  },
  {
   "cell_type": "code",
   "execution_count": 13,
   "id": "e82a5471-3fa7-431f-85e7-4c2444347050",
   "metadata": {},
   "outputs": [],
   "source": [
    "# Compute cosine similarity between users\n",
    "user_similarity = cosine_similarity(user_movie_matrix)\n",
    "user_similarity_df = pd.DataFrame(user_similarity, index=user_movie_matrix.index, columns=user_movie_matrix.index)"
   ]
  },
  {
   "cell_type": "code",
   "execution_count": 15,
   "id": "14b73b06-c245-44f0-8899-38f0e288f9bd",
   "metadata": {},
   "outputs": [],
   "source": [
    "# Function to get top N similar users\n",
    "def get_similar_users(user_id, n=5):\n",
    "    similar_users = user_similarity_df[user_id].sort_values(ascending=False)\n",
    "    similar_users = similar_users.drop(user_id)  # remove self\n",
    "    return similar_users.head(n).index"
   ]
  },
  {
   "cell_type": "code",
   "execution_count": 17,
   "id": "6af91b78-8af5-4821-bc85-462bb205eb7b",
   "metadata": {},
   "outputs": [],
   "source": [
    "# Function to recommend movies for a user\n",
    "def recommend_movies(user_id, n=5):\n",
    "    similar_users = get_similar_users(user_id)\n",
    "    similar_users_ratings = user_movie_matrix.loc[similar_users]\n",
    "    avg_ratings = similar_users_ratings.mean(axis=0)\n",
    "    user_seen_movies = user_movie_matrix.loc[user_id]\n",
    "    avg_ratings = avg_ratings[user_seen_movies == 0]  # recommend unseen movies\n",
    "    return avg_ratings.sort_values(ascending=False).head(n)"
   ]
  },
  {
   "cell_type": "code",
   "execution_count": 19,
   "id": "607ca638-710b-489e-bd0d-4101f69be20f",
   "metadata": {},
   "outputs": [
    {
     "name": "stdout",
     "output_type": "stream",
     "text": [
      "Top Recommendations for User 1:\n",
      "title\n",
      "Aliens (1986)                        4.8\n",
      "Hunt for Red October, The (1990)     4.3\n",
      "Blade Runner (1982)                  4.0\n",
      "Godfather, The (1972)                4.0\n",
      "Terminator 2: Judgment Day (1991)    4.0\n",
      "dtype: float64\n"
     ]
    }
   ],
   "source": [
    "# Example: Recommend for user with ID 1\n",
    "print(\"Top Recommendations for User 1:\")\n",
    "print(recommend_movies(1, n=5))"
   ]
  },
  {
   "cell_type": "code",
   "execution_count": null,
   "id": "e8f5a494-92d1-48b1-a49c-5650dbdcec0a",
   "metadata": {},
   "outputs": [],
   "source": []
  }
 ],
 "metadata": {
  "kernelspec": {
   "display_name": "Python 3 (ipykernel)",
   "language": "python",
   "name": "python3"
  },
  "language_info": {
   "codemirror_mode": {
    "name": "ipython",
    "version": 3
   },
   "file_extension": ".py",
   "mimetype": "text/x-python",
   "name": "python",
   "nbconvert_exporter": "python",
   "pygments_lexer": "ipython3",
   "version": "3.12.7"
  }
 },
 "nbformat": 4,
 "nbformat_minor": 5
}
